{
 "cells": [
  {
   "cell_type": "code",
   "execution_count": null,
   "metadata": {
    "scrolled": true
   },
   "outputs": [],
   "source": [
    "%run main.py --no_eval \\\n",
    "--train_data \"/home/ra2630/NLU/train-v1.1.json\" \\\n",
    "--tf_ratio 1.0 \\\n",
    "--tf_ratio_decay_rate 0.99 \\\n",
    "--gpu \\\n",
    "--gen_test \\\n",
    "--gen_test_number 5 \\\n",
    "--gen_train \\\n",
    "--gen_train_number 2 \\\n",
    "--word_tf \\\n",
    "--use_attention \\\n",
    "--use_masked_loss \\\n",
    "--num_epochs 500 \\\n",
    "--batch_size 128 \\\n",
    "--words_to_take 5000 \\\n",
    "--example_to_train 8000 \\\n"
   ]
  },
  {
   "cell_type": "code",
   "execution_count": null,
   "metadata": {},
   "outputs": [],
   "source": [
    "%run main.py --no_train --no_eval --train_data \"/home/ra2630/NLU/train-v1.1.json\""
   ]
  },
  {
   "cell_type": "code",
   "execution_count": null,
   "metadata": {},
   "outputs": [],
   "source": [
    "%run main.py \\\n",
    "--lr 0.01 \\\n",
    "--hidden_size 600 \\\n",
    "--no_eval \\\n",
    "--train_data \"/home/ra2630/NLU/train-v1.1.json\" \\\n",
    "--gpu \\\n",
    "--gen_train \\\n",
    "--gen_train_number 2 \\\n",
    "--num_epochs 500 \\\n",
    "--batch_size 8 \\\n",
    "--words_to_take 5000 \\\n",
    "--example_to_train 32 \\\n",
    "--use_masked_loss \\"
   ]
  },
  {
   "cell_type": "code",
   "execution_count": null,
   "metadata": {},
   "outputs": [],
   "source": [
    "batches[0]"
   ]
  },
  {
   "cell_type": "code",
   "execution_count": null,
   "metadata": {},
   "outputs": [],
   "source": [
    "torch.__version__"
   ]
  },
  {
   "cell_type": "code",
   "execution_count": null,
   "metadata": {},
   "outputs": [],
   "source": []
  },
  {
   "cell_type": "code",
   "execution_count": null,
   "metadata": {},
   "outputs": [],
   "source": []
  },
  {
   "cell_type": "code",
   "execution_count": null,
   "metadata": {},
   "outputs": [],
   "source": [
    "def printComp(doc_tokens):\n",
    "    for i in doc_tokens:\n",
    "        print(look_up_token(i), sep = ' ', end = ' ')\n",
    "    print(\"\")\n",
    "def printAnswer():\n",
    "    "
   ]
  },
  {
   "cell_type": "code",
   "execution_count": null,
   "metadata": {},
   "outputs": [],
   "source": [
    "for i in range(4):\n",
    "    for j in range(8):\n",
    "        printComp(batches[i]['document_tokens'][j])\n",
    "        printComp(batches[i]['question_input_tokens'][j])"
   ]
  },
  {
   "cell_type": "code",
   "execution_count": null,
   "metadata": {},
   "outputs": [],
   "source": [
    "glove.shape"
   ]
  },
  {
   "cell_type": "code",
   "execution_count": null,
   "metadata": {},
   "outputs": [],
   "source": []
  },
  {
   "cell_type": "code",
   "execution_count": null,
   "metadata": {},
   "outputs": [],
   "source": []
  },
  {
   "cell_type": "code",
   "execution_count": null,
   "metadata": {},
   "outputs": [],
   "source": []
  }
 ],
 "metadata": {
  "kernelspec": {
   "display_name": "Python 3",
   "language": "python",
   "name": "python3"
  },
  "language_info": {
   "codemirror_mode": {
    "name": "ipython",
    "version": 3
   },
   "file_extension": ".py",
   "mimetype": "text/x-python",
   "name": "python",
   "nbconvert_exporter": "python",
   "pygments_lexer": "ipython3",
   "version": "3.6.5"
  }
 },
 "nbformat": 4,
 "nbformat_minor": 2
}
