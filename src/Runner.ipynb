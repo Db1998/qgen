{
 "cells": [
  {
   "cell_type": "code",
   "execution_count": null,
   "metadata": {
    "scrolled": true
   },
   "outputs": [
    {
     "name": "stdout",
     "output_type": "stream",
     "text": [
      "Namespace(batch_size=128, example_to_train=8000, gen_test=True, gen_test_number=5, gen_train=True, gen_train_number=2, gpu=True, hidden_size=300, load='', load_data='', lr=0.0003, no_eval=True, no_train=False, num_epochs=500, reduced_glove=False, save='', save_data='', seed=42, split_ratio=0.8, tf_ratio=1.0, tf_ratio_decay_rate=0.99, train_data='/home/ra2630/NLU/train-v1.1.json', use_attention=True, use_masked_loss=True, word_tf=True, words_to_take=5000)\n",
      "No. of invalid words/examples: 4858\n",
      "Number of batches =  63\n",
      "No. of batches in training data: 50, with batch_size: 128 \n",
      "Batch: 0 \t Epoch : 0\tNet Loss: 8.5315 \tAnswer Loss: 0.6521 \tQuestion Loss: 8.5315\n",
      "Batch: 1 \t Epoch : 0\tNet Loss: 8.5030 \tAnswer Loss: 0.6521 \tQuestion Loss: 8.5030\n",
      "Batch: 2 \t Epoch : 0\tNet Loss: 8.4744 \tAnswer Loss: 0.6521 \tQuestion Loss: 8.4744\n",
      "Batch: 3 \t Epoch : 0\tNet Loss: 8.4459 \tAnswer Loss: 0.6521 \tQuestion Loss: 8.4459\n",
      "Batch: 4 \t Epoch : 0\tNet Loss: 8.4263 \tAnswer Loss: 0.6521 \tQuestion Loss: 8.4263\n",
      "Batch: 5 \t Epoch : 0\tNet Loss: 8.3960 \tAnswer Loss: 0.6521 \tQuestion Loss: 8.3960\n",
      "Batch: 6 \t Epoch : 0\tNet Loss: 8.3617 \tAnswer Loss: 0.6521 \tQuestion Loss: 8.3617\n",
      "Batch: 7 \t Epoch : 0\tNet Loss: 8.3338 \tAnswer Loss: 0.6521 \tQuestion Loss: 8.3338\n",
      "Batch: 8 \t Epoch : 0\tNet Loss: 8.3060 \tAnswer Loss: 0.6521 \tQuestion Loss: 8.3060\n",
      "Batch: 9 \t Epoch : 0\tNet Loss: 8.2782 \tAnswer Loss: 0.6521 \tQuestion Loss: 8.2782\n",
      "Batch: 10 \t Epoch : 0\tNet Loss: 8.2505 \tAnswer Loss: 0.6521 \tQuestion Loss: 8.2505\n",
      "Batch: 11 \t Epoch : 0\tNet Loss: 8.2228 \tAnswer Loss: 0.6521 \tQuestion Loss: 8.2228\n",
      "Batch: 12 \t Epoch : 0\tNet Loss: 8.2050 \tAnswer Loss: 0.6521 \tQuestion Loss: 8.2050\n",
      "Batch: 13 \t Epoch : 0\tNet Loss: 8.1678 \tAnswer Loss: 0.6521 \tQuestion Loss: 8.1678\n",
      "Batch: 14 \t Epoch : 0\tNet Loss: 8.1405 \tAnswer Loss: 0.6521 \tQuestion Loss: 8.1405\n",
      "Batch: 15 \t Epoch : 0\tNet Loss: 8.1132 \tAnswer Loss: 0.6521 \tQuestion Loss: 8.1132\n",
      "Batch: 16 \t Epoch : 0\tNet Loss: 8.0860 \tAnswer Loss: 0.6521 \tQuestion Loss: 8.0860\n",
      "Batch: 17 \t Epoch : 0\tNet Loss: 8.0589 \tAnswer Loss: 0.6521 \tQuestion Loss: 8.0589\n",
      "Batch: 18 \t Epoch : 0\tNet Loss: 8.0319 \tAnswer Loss: 0.6521 \tQuestion Loss: 8.0319\n"
     ]
    }
   ],
   "source": [
    "%run main.py --no_eval \\\n",
    "--train_data \"/home/ra2630/NLU/train-v1.1.json\" \\\n",
    "--tf_ratio 1.0 \\\n",
    "--tf_ratio_decay_rate 0.99 \\\n",
    "--gpu \\\n",
    "--gen_test \\\n",
    "--gen_test_number 5 \\\n",
    "--gen_train \\\n",
    "--gen_train_number 2 \\\n",
    "--word_tf \\\n",
    "--use_attention \\\n",
    "--use_masked_loss \\\n",
    "--num_epochs 500 \\\n",
    "--batch_size 128 \\\n",
    "--words_to_take 5000 \\\n",
    "--example_to_train 8000 \\\n"
   ]
  },
  {
   "cell_type": "code",
   "execution_count": null,
   "metadata": {},
   "outputs": [],
   "source": [
    "%run main.py --no_train --no_eval --train_data \"/home/ra2630/NLU/train-v1.1.json\""
   ]
  },
  {
   "cell_type": "code",
   "execution_count": null,
   "metadata": {},
   "outputs": [],
   "source": [
    "import random"
   ]
  },
  {
   "cell_type": "code",
   "execution_count": null,
   "metadata": {},
   "outputs": [],
   "source": []
  }
 ],
 "metadata": {
  "kernelspec": {
   "display_name": "Python 3",
   "language": "python",
   "name": "python3"
  },
  "language_info": {
   "codemirror_mode": {
    "name": "ipython",
    "version": 3
   },
   "file_extension": ".py",
   "mimetype": "text/x-python",
   "name": "python",
   "nbconvert_exporter": "python",
   "pygments_lexer": "ipython3",
   "version": "3.6.5"
  }
 },
 "nbformat": 4,
 "nbformat_minor": 2
}
